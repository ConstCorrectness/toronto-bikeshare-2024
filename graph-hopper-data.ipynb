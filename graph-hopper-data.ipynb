{
 "cells": [
  {
   "cell_type": "code",
   "execution_count": 1,
   "id": "abaaa43e-5e73-4db2-aa15-e6d38725a85f",
   "metadata": {},
   "outputs": [
    {
     "ename": "ModuleNotFoundError",
     "evalue": "No module named 'polyline'",
     "output_type": "error",
     "traceback": [
      "\u001b[1;31m---------------------------------------------------------------------------\u001b[0m",
      "\u001b[1;31mModuleNotFoundError\u001b[0m                       Traceback (most recent call last)",
      "Cell \u001b[1;32mIn[1], line 7\u001b[0m\n\u001b[0;32m      4\u001b[0m \u001b[38;5;28;01mimport\u001b[39;00m \u001b[38;5;21;01mpandas\u001b[39;00m \u001b[38;5;28;01mas\u001b[39;00m \u001b[38;5;21;01mpd\u001b[39;00m\n\u001b[0;32m      5\u001b[0m \u001b[38;5;28;01mimport\u001b[39;00m \u001b[38;5;21;01mapi_keys\u001b[39;00m\n\u001b[1;32m----> 7\u001b[0m \u001b[38;5;28;01mimport\u001b[39;00m \u001b[38;5;21;01mpolyline\u001b[39;00m\n",
      "\u001b[1;31mModuleNotFoundError\u001b[0m: No module named 'polyline'"
     ]
    }
   ],
   "source": [
    "import requests\n",
    "from urllib.parse import urlencode, quote\n",
    "\n",
    "import pandas as pd\n",
    "import api_keys\n",
    "\n",
    "import polyline"
   ]
  },
  {
   "cell_type": "code",
   "execution_count": null,
   "id": "e8554817-db76-4ed6-8e19-3a540f9e223b",
   "metadata": {},
   "outputs": [],
   "source": [
    "base_url = 'https://graphhopper.com/api/1/route'\n",
    "\n",
    "requests.get(url).json()"
   ]
  },
  {
   "cell_type": "code",
   "execution_count": null,
   "id": "1b9c0759-73cb-44e8-b2f9-87a6c7a757db",
   "metadata": {},
   "outputs": [],
   "source": [
    "# curl \"https://graphhopper.com/api/1/route?point=51.131,12.414&point=48.224,3.867&profile=car&locale=de&calc_points=false&key=api_key\"\n",
    "\n",
    "locations_df = pd.read_csv('datasets/station_information.csv', usecols=['station_id', 'lat', 'lon'])\n",
    "locations_df\n",
    "\n",
    "locations_df.head()"
   ]
  },
  {
   "cell_type": "code",
   "execution_count": null,
   "id": "5a5ebaee-3472-4e44-8da2-ae6c5aab0785",
   "metadata": {},
   "outputs": [],
   "source": [
    "def get_route_json(lat1, lon1, lat2, lon2):\n",
    "    base_url = 'https://graphhopper.com/api/1/route'\n",
    "    url = f'{base_url}?point={lat1},{lon1}&point={lat2},{lon2}&profile=bike&locale=en&calc_points=true&points_encoded=True&key={api_keys.api_key}'\n",
    "    return requests.get(url).json()\n",
    "    \n",
    "o = get_route_json(locations_df.loc[0].lat, locations_df.loc[0].lon, locations_df.loc[1].lat, locations_df.loc[1].lon)\n",
    "    "
   ]
  },
  {
   "cell_type": "code",
   "execution_count": null,
   "id": "9f22c103-dbdb-433d-bfb2-2ad9de3220c4",
   "metadata": {},
   "outputs": [],
   "source": [
    "polyline.decode(o['paths'][0]['points'])"
   ]
  },
  {
   "cell_type": "code",
   "execution_count": null,
   "id": "0feeb713-961c-47e7-978c-36f7fe936b96",
   "metadata": {},
   "outputs": [],
   "source": [
    "import folium\n",
    "\n",
    "# Example list of tuples (latitude, longitude)\n",
    "route = [\n",
    "    (43.63985, -79.395989),\n",
    "    (43.64012, -79.395672),\n",
    "    (43.64045, -79.395321),\n",
    "    (43.64100, -79.394956)\n",
    "]\n",
    "\n",
    "# Create a map centered around the first point\n",
    "mymap = folium.Map(location=route[0], zoom_start=15)\n",
    "\n",
    "# Add the route as a polyline\n",
    "folium.PolyLine(route, color=\"blue\", weight=2.5, opacity=1).add_to(mymap)\n",
    "\n",
    "# Add markers for each point in the route\n",
    "for lat, lon in route:\n",
    "    folium.Marker([lat, lon]).add_to(mymap)\n",
    "\n",
    "# Save the map as an HTML file\n",
    "mymap.save(\"route_map.html\")"
   ]
  },
  {
   "cell_type": "code",
   "execution_count": null,
   "id": "fdf4ae09-08f1-41a7-aaac-95ddd77f19ee",
   "metadata": {},
   "outputs": [],
   "source": []
  }
 ],
 "metadata": {
  "kernelspec": {
   "display_name": "Python 3 (ipykernel)",
   "language": "python",
   "name": "python3"
  },
  "language_info": {
   "codemirror_mode": {
    "name": "ipython",
    "version": 3
   },
   "file_extension": ".py",
   "mimetype": "text/x-python",
   "name": "python",
   "nbconvert_exporter": "python",
   "pygments_lexer": "ipython3",
   "version": "3.10.16"
  }
 },
 "nbformat": 4,
 "nbformat_minor": 5
}
