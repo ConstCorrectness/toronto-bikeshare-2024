{
 "cells": [
  {
   "cell_type": "code",
   "execution_count": 1,
   "id": "abaaa43e-5e73-4db2-aa15-e6d38725a85f",
   "metadata": {},
   "outputs": [],
   "source": [
    "import requests\n",
    "from urllib.parse import urlencode, quote\n",
    "\n",
    "import pandas as pd\n",
    "import api_keys\n",
    "\n",
    "import polyline"
   ]
  },
  {
   "cell_type": "code",
   "execution_count": 3,
   "id": "e8554817-db76-4ed6-8e19-3a540f9e223b",
   "metadata": {},
   "outputs": [
    {
     "data": {
      "text/plain": [
       "{'message': \"No parameters specified, at least 'key' is necessary. Please register and see documentation: https://www.graphhopper.com/developers/\"}"
      ]
     },
     "execution_count": 3,
     "metadata": {},
     "output_type": "execute_result"
    }
   ],
   "source": [
    "base_url = 'https://graphhopper.com/api/1/route'\n",
    "\n",
    "requests.get(base_url).json()"
   ]
  },
  {
   "cell_type": "code",
   "execution_count": null,
   "id": "1b9c0759-73cb-44e8-b2f9-87a6c7a757db",
   "metadata": {},
   "outputs": [],
   "source": [
    "# curl \"https://graphhopper.com/api/1/route?point=51.131,12.414&point=48.224,3.867&profile=car&locale=de&calc_points=false&key=api_key\"\n",
    "\n",
    "locations_df = pd.read_csv('datasets/station_information.csv', usecols=['station_id', 'lat', 'lon'])\n",
    "locations_df\n",
    "\n",
    "locations_df.head()"
   ]
  },
  {
   "cell_type": "code",
   "execution_count": null,
   "id": "5a5ebaee-3472-4e44-8da2-ae6c5aab0785",
   "metadata": {},
   "outputs": [],
   "source": [
    "def get_route_json(lat1, lon1, lat2, lon2):\n",
    "    base_url = 'https://graphhopper.com/api/1/route'\n",
    "    url = f'{base_url}?point={lat1},{lon1}&point={lat2},{lon2}&profile=bike&locale=en&calc_points=true&points_encoded=True&key={api_keys.api_key}'\n",
    "    return requests.get(url).json()\n",
    "    \n",
    "o = get_route_json(locations_df.loc[0].lat, locations_df.loc[0].lon, locations_df.loc[1].lat, locations_df.loc[1].lon)\n",
    "    "
   ]
  },
  {
   "cell_type": "code",
   "execution_count": null,
   "id": "9f22c103-dbdb-433d-bfb2-2ad9de3220c4",
   "metadata": {},
   "outputs": [],
   "source": [
    "polyline.decode(o['paths'][0]['points'])"
   ]
  },
  {
   "cell_type": "code",
   "execution_count": 4,
   "id": "86cefb1c-32b2-45a3-ac67-8ede04202a30",
   "metadata": {},
   "outputs": [
    {
     "name": "stdout",
     "output_type": "stream",
     "text": [
      "   Unnamed: 0     Trip id  Trip  Duration  Start Station Id  \\\n",
      "0           0  20150036.0             134              7148   \n",
      "1           1  20150702.0             900              7227   \n",
      "2           2  20151407.0             126              7389   \n",
      "3           3  20152688.0            1493              7203   \n",
      "4           4  20153366.0             295              7238   \n",
      "\n",
      "                              Start Station Name  End Station Id  \\\n",
      "0                    King St W / Joe Shuster Way          7148.0   \n",
      "1       Martin Goodman Trail (Marilyn Bell Park)          7322.0   \n",
      "2                 College Park- Gerrard Entrance          7012.0   \n",
      "3  Bathurst St/Queens Quay(Billy Bishop Airport)          7140.0   \n",
      "4      Sorauren/Geoffrey (Sorauren Park) - SMART          7496.0   \n",
      "\n",
      "                          End Station Name  Bike Id      User Type  \\\n",
      "0              King St W / Joe Shuster Way     1068  Casual Member   \n",
      "1                     King St W / Brant St     6474  Casual Member   \n",
      "2  Elizabeth St / Edward St (Bus Terminal)     3445  Casual Member   \n",
      "3              Macpherson Ave / Spadina Rd     1286  Annual Member   \n",
      "4    Sunnyside Ave / The Queensway - SMART     5511  Annual Member   \n",
      "\n",
      "   Start Date Time Start    End Date  Time End  station_id_start  lat_start  \\\n",
      "0  2023-01-01   05:06:00  2023-01-01  05:08:00            7148.0  43.639444   \n",
      "1  2023-01-01   11:18:00  2023-01-01  11:33:00            7227.0  43.631400   \n",
      "2  2023-01-01   15:03:00  2023-01-01  15:05:00            7389.0  43.658938   \n",
      "3  2023-01-01   20:42:00  2023-01-01  21:07:00            7203.0  43.635492   \n",
      "4  2023-01-02   03:50:00  2023-01-02  03:54:00            7238.0  43.649172   \n",
      "\n",
      "   lon_start  station_id_end    lat_end    lon_end  \n",
      "0 -79.423611          7148.0  43.639444 -79.423611  \n",
      "1 -79.430400          7322.0  43.639278 -79.411574  \n",
      "2 -79.383518          7012.0  43.656026 -79.385327  \n",
      "3 -79.398253          7140.0  43.675791 -79.406980  \n",
      "4 -79.444509          7496.0  43.639700 -79.448650  \n"
     ]
    }
   ],
   "source": [
    "import folium\n",
    "\n",
    "lat_lon_df = pd.read_csv(\"datasets/lon-lat.csv\")\n",
    "\n",
    "print(lat_lon_df.head())"
   ]
  },
  {
   "cell_type": "code",
   "execution_count": 5,
   "id": "225aec20-de1a-454e-a2fd-397381c2d3be",
   "metadata": {},
   "outputs": [],
   "source": [
    "# Create a base map (centered at the first coordinate)\n",
    "\n",
    "start_lat, start_lon = lat_lon_df['lat_start'], lat_lon_df['lon_start']\n",
    "end_lat, end_lon = lat_lon_df['lat_end'], lat_lon_df['lon_end']\n",
    "m = folium.Map(location=[lat_lon_df[\"lat_start\"].mean(), lat_lon_df[\"lon_start\"].mean()], zoom_start=5)\n",
    "\n",
    "\n"
   ]
  },
  {
   "cell_type": "code",
   "execution_count": 6,
   "id": "b9aa1bf8-664a-4769-922e-6858839969d6",
   "metadata": {},
   "outputs": [
    {
     "ename": "ValueError",
     "evalue": "Location should consist of two numerical values, but 0       43.639444\n1       43.631400\n2       43.658938\n3       43.635492\n4       43.649172\n          ...    \n7486    43.640978\n7487    43.645469\n7488    43.671389\n7489    43.655431\n7490    43.639700\nName: lat_start, Length: 7491, dtype: float64 of type <class 'pandas.core.series.Series'> is not convertible to float.",
     "output_type": "error",
     "traceback": [
      "\u001b[1;31m---------------------------------------------------------------------------\u001b[0m",
      "\u001b[1;31mTypeError\u001b[0m                                 Traceback (most recent call last)",
      "File \u001b[1;32m~\\anaconda3\\envs\\dev\\lib\\site-packages\\folium\\utilities.py:101\u001b[0m, in \u001b[0;36mvalidate_location\u001b[1;34m(location)\u001b[0m\n\u001b[0;32m    100\u001b[0m \u001b[38;5;28;01mtry\u001b[39;00m:\n\u001b[1;32m--> 101\u001b[0m     \u001b[38;5;28;43mfloat\u001b[39;49m\u001b[43m(\u001b[49m\u001b[43mcoord\u001b[49m\u001b[43m)\u001b[49m\n\u001b[0;32m    102\u001b[0m \u001b[38;5;28;01mexcept\u001b[39;00m (\u001b[38;5;167;01mTypeError\u001b[39;00m, \u001b[38;5;167;01mValueError\u001b[39;00m):\n",
      "File \u001b[1;32m~\\anaconda3\\envs\\dev\\lib\\site-packages\\pandas\\core\\series.py:248\u001b[0m, in \u001b[0;36m_coerce_method.<locals>.wrapper\u001b[1;34m(self)\u001b[0m\n\u001b[0;32m    247\u001b[0m     \u001b[38;5;28;01mreturn\u001b[39;00m converter(\u001b[38;5;28mself\u001b[39m\u001b[38;5;241m.\u001b[39miloc[\u001b[38;5;241m0\u001b[39m])\n\u001b[1;32m--> 248\u001b[0m \u001b[38;5;28;01mraise\u001b[39;00m \u001b[38;5;167;01mTypeError\u001b[39;00m(\u001b[38;5;124mf\u001b[39m\u001b[38;5;124m\"\u001b[39m\u001b[38;5;124mcannot convert the series to \u001b[39m\u001b[38;5;132;01m{\u001b[39;00mconverter\u001b[38;5;132;01m}\u001b[39;00m\u001b[38;5;124m\"\u001b[39m)\n",
      "\u001b[1;31mTypeError\u001b[0m: cannot convert the series to <class 'float'>",
      "\nDuring handling of the above exception, another exception occurred:\n",
      "\u001b[1;31mValueError\u001b[0m                                Traceback (most recent call last)",
      "Cell \u001b[1;32mIn[6], line 3\u001b[0m\n\u001b[0;32m      1\u001b[0m \u001b[38;5;66;03m# Add markers from CSV\u001b[39;00m\n\u001b[0;32m      2\u001b[0m \u001b[38;5;66;03m# Add start and end markers\u001b[39;00m\n\u001b[1;32m----> 3\u001b[0m \u001b[43mfolium\u001b[49m\u001b[38;5;241;43m.\u001b[39;49m\u001b[43mMarker\u001b[49m\u001b[43m(\u001b[49m\n\u001b[0;32m      4\u001b[0m \u001b[43m    \u001b[49m\u001b[43mlocation\u001b[49m\u001b[38;5;241;43m=\u001b[39;49m\u001b[43m[\u001b[49m\u001b[43mstart_lat\u001b[49m\u001b[43m,\u001b[49m\u001b[43m \u001b[49m\u001b[43mstart_lon\u001b[49m\u001b[43m]\u001b[49m\u001b[43m,\u001b[49m\n\u001b[0;32m      5\u001b[0m \u001b[43m    \u001b[49m\u001b[43mpopup\u001b[49m\u001b[38;5;241;43m=\u001b[39;49m\u001b[38;5;124;43m\"\u001b[39;49m\u001b[38;5;124;43mStart Location\u001b[39;49m\u001b[38;5;124;43m\"\u001b[39;49m\u001b[43m,\u001b[49m\n\u001b[0;32m      6\u001b[0m \u001b[43m    \u001b[49m\u001b[43mtooltip\u001b[49m\u001b[38;5;241;43m=\u001b[39;49m\u001b[38;5;124;43m\"\u001b[39;49m\u001b[38;5;124;43mStart\u001b[39;49m\u001b[38;5;124;43m\"\u001b[39;49m\u001b[43m,\u001b[49m\n\u001b[0;32m      7\u001b[0m \u001b[43m    \u001b[49m\u001b[43micon\u001b[49m\u001b[38;5;241;43m=\u001b[39;49m\u001b[43mfolium\u001b[49m\u001b[38;5;241;43m.\u001b[39;49m\u001b[43mIcon\u001b[49m\u001b[43m(\u001b[49m\u001b[43mcolor\u001b[49m\u001b[38;5;241;43m=\u001b[39;49m\u001b[38;5;124;43m\"\u001b[39;49m\u001b[38;5;124;43mgreen\u001b[39;49m\u001b[38;5;124;43m\"\u001b[39;49m\u001b[43m,\u001b[49m\u001b[43m \u001b[49m\u001b[43micon\u001b[49m\u001b[38;5;241;43m=\u001b[39;49m\u001b[38;5;124;43m\"\u001b[39;49m\u001b[38;5;124;43mplay\u001b[39;49m\u001b[38;5;124;43m\"\u001b[39;49m\u001b[43m)\u001b[49m\n\u001b[0;32m      8\u001b[0m \u001b[43m)\u001b[49m\u001b[38;5;241m.\u001b[39madd_to(m)\n\u001b[0;32m     10\u001b[0m folium\u001b[38;5;241m.\u001b[39mMarker(\n\u001b[0;32m     11\u001b[0m     location\u001b[38;5;241m=\u001b[39m[end_lat, end_lon],\n\u001b[0;32m     12\u001b[0m     popup\u001b[38;5;241m=\u001b[39m\u001b[38;5;124m\"\u001b[39m\u001b[38;5;124mEnd Location\u001b[39m\u001b[38;5;124m\"\u001b[39m,\n\u001b[0;32m     13\u001b[0m     tooltip\u001b[38;5;241m=\u001b[39m\u001b[38;5;124m\"\u001b[39m\u001b[38;5;124mEnd\u001b[39m\u001b[38;5;124m\"\u001b[39m,\n\u001b[0;32m     14\u001b[0m     icon\u001b[38;5;241m=\u001b[39mfolium\u001b[38;5;241m.\u001b[39mIcon(color\u001b[38;5;241m=\u001b[39m\u001b[38;5;124m\"\u001b[39m\u001b[38;5;124mred\u001b[39m\u001b[38;5;124m\"\u001b[39m, icon\u001b[38;5;241m=\u001b[39m\u001b[38;5;124m\"\u001b[39m\u001b[38;5;124mstop\u001b[39m\u001b[38;5;124m\"\u001b[39m)\n\u001b[0;32m     15\u001b[0m )\u001b[38;5;241m.\u001b[39madd_to(m)\n",
      "File \u001b[1;32m~\\anaconda3\\envs\\dev\\lib\\site-packages\\folium\\map.py:386\u001b[0m, in \u001b[0;36mMarker.__init__\u001b[1;34m(self, location, popup, tooltip, icon, draggable, **kwargs)\u001b[0m\n\u001b[0;32m    384\u001b[0m \u001b[38;5;28msuper\u001b[39m()\u001b[38;5;241m.\u001b[39m\u001b[38;5;21m__init__\u001b[39m()\n\u001b[0;32m    385\u001b[0m \u001b[38;5;28mself\u001b[39m\u001b[38;5;241m.\u001b[39m_name \u001b[38;5;241m=\u001b[39m \u001b[38;5;124m\"\u001b[39m\u001b[38;5;124mMarker\u001b[39m\u001b[38;5;124m\"\u001b[39m\n\u001b[1;32m--> 386\u001b[0m \u001b[38;5;28mself\u001b[39m\u001b[38;5;241m.\u001b[39mlocation \u001b[38;5;241m=\u001b[39m \u001b[43mvalidate_location\u001b[49m\u001b[43m(\u001b[49m\u001b[43mlocation\u001b[49m\u001b[43m)\u001b[49m \u001b[38;5;28;01mif\u001b[39;00m location \u001b[38;5;129;01mis\u001b[39;00m \u001b[38;5;129;01mnot\u001b[39;00m \u001b[38;5;28;01mNone\u001b[39;00m \u001b[38;5;28;01melse\u001b[39;00m \u001b[38;5;28;01mNone\u001b[39;00m\n\u001b[0;32m    387\u001b[0m \u001b[38;5;28mself\u001b[39m\u001b[38;5;241m.\u001b[39moptions \u001b[38;5;241m=\u001b[39m remove_empty(\n\u001b[0;32m    388\u001b[0m     draggable\u001b[38;5;241m=\u001b[39mdraggable \u001b[38;5;129;01mor\u001b[39;00m \u001b[38;5;28;01mNone\u001b[39;00m, autoPan\u001b[38;5;241m=\u001b[39mdraggable \u001b[38;5;129;01mor\u001b[39;00m \u001b[38;5;28;01mNone\u001b[39;00m, \u001b[38;5;241m*\u001b[39m\u001b[38;5;241m*\u001b[39mkwargs\n\u001b[0;32m    389\u001b[0m )\n\u001b[0;32m    390\u001b[0m \u001b[38;5;28;01mif\u001b[39;00m icon \u001b[38;5;129;01mis\u001b[39;00m \u001b[38;5;129;01mnot\u001b[39;00m \u001b[38;5;28;01mNone\u001b[39;00m:\n",
      "File \u001b[1;32m~\\anaconda3\\envs\\dev\\lib\\site-packages\\folium\\utilities.py:103\u001b[0m, in \u001b[0;36mvalidate_location\u001b[1;34m(location)\u001b[0m\n\u001b[0;32m    101\u001b[0m     \u001b[38;5;28mfloat\u001b[39m(coord)\n\u001b[0;32m    102\u001b[0m \u001b[38;5;28;01mexcept\u001b[39;00m (\u001b[38;5;167;01mTypeError\u001b[39;00m, \u001b[38;5;167;01mValueError\u001b[39;00m):\n\u001b[1;32m--> 103\u001b[0m     \u001b[38;5;28;01mraise\u001b[39;00m \u001b[38;5;167;01mValueError\u001b[39;00m(\n\u001b[0;32m    104\u001b[0m         \u001b[38;5;124m\"\u001b[39m\u001b[38;5;124mLocation should consist of two numerical values, \u001b[39m\u001b[38;5;124m\"\u001b[39m\n\u001b[0;32m    105\u001b[0m         \u001b[38;5;124mf\u001b[39m\u001b[38;5;124m\"\u001b[39m\u001b[38;5;124mbut \u001b[39m\u001b[38;5;132;01m{\u001b[39;00mcoord\u001b[38;5;132;01m!r}\u001b[39;00m\u001b[38;5;124m of type \u001b[39m\u001b[38;5;132;01m{\u001b[39;00m\u001b[38;5;28mtype\u001b[39m(coord)\u001b[38;5;132;01m}\u001b[39;00m\u001b[38;5;124m is not convertible to float.\u001b[39m\u001b[38;5;124m\"\u001b[39m\n\u001b[0;32m    106\u001b[0m     )\n\u001b[0;32m    107\u001b[0m \u001b[38;5;28;01mif\u001b[39;00m math\u001b[38;5;241m.\u001b[39misnan(\u001b[38;5;28mfloat\u001b[39m(coord)):\n\u001b[0;32m    108\u001b[0m     \u001b[38;5;28;01mraise\u001b[39;00m \u001b[38;5;167;01mValueError\u001b[39;00m(\u001b[38;5;124m\"\u001b[39m\u001b[38;5;124mLocation values cannot contain NaNs.\u001b[39m\u001b[38;5;124m\"\u001b[39m)\n",
      "\u001b[1;31mValueError\u001b[0m: Location should consist of two numerical values, but 0       43.639444\n1       43.631400\n2       43.658938\n3       43.635492\n4       43.649172\n          ...    \n7486    43.640978\n7487    43.645469\n7488    43.671389\n7489    43.655431\n7490    43.639700\nName: lat_start, Length: 7491, dtype: float64 of type <class 'pandas.core.series.Series'> is not convertible to float."
     ]
    }
   ],
   "source": [
    "# Add markers from CSV\n",
    "# Add start and end markers\n",
    "folium.Marker(\n",
    "    location=[start_lat, start_lon],\n",
    "    popup=\"Start Location\",\n",
    "    tooltip=\"Start\",\n",
    "    icon=folium.Icon(color=\"green\", icon=\"play\")\n",
    ").add_to(m)\n",
    "\n",
    "folium.Marker(\n",
    "    location=[end_lat, end_lon],\n",
    "    popup=\"End Location\",\n",
    "    tooltip=\"End\",\n",
    "    icon=folium.Icon(color=\"red\", icon=\"stop\")\n",
    ").add_to(m)"
   ]
  },
  {
   "cell_type": "code",
   "execution_count": null,
   "id": "0feeb713-961c-47e7-978c-36f7fe936b96",
   "metadata": {},
   "outputs": [],
   "source": [
    "\n",
    "# Example list of tuples (latitude, longitude)\n",
    "route = [\n",
    "    (43.63985, -79.395989),\n",
    "    (43.64012, -79.395672),\n",
    "    (43.64045, -79.395321),\n",
    "    (43.64100, -79.394956)\n",
    "]\n",
    "\n",
    "# Create a map centered around the first point\n",
    "mymap = folium.Map(location=route[0], zoom_start=15)\n",
    "\n",
    "# Add the route as a polyline\n",
    "folium.PolyLine(route, color=\"blue\", weight=2.5, opacity=1).add_to(mymap)\n",
    "\n",
    "# Add markers for each point in the route\n",
    "for lat, lon in route:\n",
    "    folium.Marker([lat, lon]).add_to(mymap)\n",
    "\n",
    "# Save the map as an HTML file\n",
    "mymap.save(\"route_map.html\")\n",
    "\n"
   ]
  },
  {
   "cell_type": "code",
   "execution_count": null,
   "id": "fdf4ae09-08f1-41a7-aaac-95ddd77f19ee",
   "metadata": {},
   "outputs": [],
   "source": []
  }
 ],
 "metadata": {
  "kernelspec": {
   "display_name": "Python 3 (ipykernel)",
   "language": "python",
   "name": "python3"
  },
  "language_info": {
   "codemirror_mode": {
    "name": "ipython",
    "version": 3
   },
   "file_extension": ".py",
   "mimetype": "text/x-python",
   "name": "python",
   "nbconvert_exporter": "python",
   "pygments_lexer": "ipython3",
   "version": "3.10.16"
  }
 },
 "nbformat": 4,
 "nbformat_minor": 5
}
