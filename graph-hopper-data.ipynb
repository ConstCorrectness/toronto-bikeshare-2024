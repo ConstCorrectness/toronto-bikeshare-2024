{
 "cells": [
  {
   "cell_type": "code",
   "execution_count": 1,
   "id": "abaaa43e-5e73-4db2-aa15-e6d38725a85f",
   "metadata": {},
   "outputs": [],
   "source": [
    "import requests\n",
    "from urllib.parse import urlencode, quote\n",
    "\n",
    "import pandas as pd\n",
    "import api_keys\n",
    "\n",
    "import polyline"
   ]
  },
  {
   "cell_type": "code",
   "execution_count": 2,
   "id": "e8554817-db76-4ed6-8e19-3a540f9e223b",
   "metadata": {},
   "outputs": [
    {
     "data": {
      "text/plain": [
       "{'message': \"No parameters specified, at least 'key' is necessary. Please register and see documentation: https://www.graphhopper.com/developers/\"}"
      ]
     },
     "execution_count": 2,
     "metadata": {},
     "output_type": "execute_result"
    }
   ],
   "source": [
    "base_url = 'https://graphhopper.com/api/1/route'\n",
    "\n",
    "requests.get(base_url).json()"
   ]
  },
  {
   "cell_type": "code",
   "execution_count": 3,
   "id": "1b9c0759-73cb-44e8-b2f9-87a6c7a757db",
   "metadata": {},
   "outputs": [
    {
     "data": {
      "text/html": [
       "<div>\n",
       "<style scoped>\n",
       "    .dataframe tbody tr th:only-of-type {\n",
       "        vertical-align: middle;\n",
       "    }\n",
       "\n",
       "    .dataframe tbody tr th {\n",
       "        vertical-align: top;\n",
       "    }\n",
       "\n",
       "    .dataframe thead th {\n",
       "        text-align: right;\n",
       "    }\n",
       "</style>\n",
       "<table border=\"1\" class=\"dataframe\">\n",
       "  <thead>\n",
       "    <tr style=\"text-align: right;\">\n",
       "      <th></th>\n",
       "      <th>station_id</th>\n",
       "      <th>lat</th>\n",
       "      <th>lon</th>\n",
       "    </tr>\n",
       "  </thead>\n",
       "  <tbody>\n",
       "    <tr>\n",
       "      <th>0</th>\n",
       "      <td>7000</td>\n",
       "      <td>43.639832</td>\n",
       "      <td>-79.395954</td>\n",
       "    </tr>\n",
       "    <tr>\n",
       "      <th>1</th>\n",
       "      <td>7001</td>\n",
       "      <td>43.664964</td>\n",
       "      <td>-79.383550</td>\n",
       "    </tr>\n",
       "    <tr>\n",
       "      <th>2</th>\n",
       "      <td>7002</td>\n",
       "      <td>43.667131</td>\n",
       "      <td>-79.399555</td>\n",
       "    </tr>\n",
       "    <tr>\n",
       "      <th>3</th>\n",
       "      <td>7003</td>\n",
       "      <td>43.667018</td>\n",
       "      <td>-79.402796</td>\n",
       "    </tr>\n",
       "    <tr>\n",
       "      <th>4</th>\n",
       "      <td>7005</td>\n",
       "      <td>43.648001</td>\n",
       "      <td>-79.383177</td>\n",
       "    </tr>\n",
       "  </tbody>\n",
       "</table>\n",
       "</div>"
      ],
      "text/plain": [
       "   station_id        lat        lon\n",
       "0        7000  43.639832 -79.395954\n",
       "1        7001  43.664964 -79.383550\n",
       "2        7002  43.667131 -79.399555\n",
       "3        7003  43.667018 -79.402796\n",
       "4        7005  43.648001 -79.383177"
      ]
     },
     "execution_count": 3,
     "metadata": {},
     "output_type": "execute_result"
    }
   ],
   "source": [
    "# curl \"https://graphhopper.com/api/1/route?point=51.131,12.414&point=48.224,3.867&profile=car&locale=de&calc_points=false&key=api_key\"\n",
    "\n",
    "locations_df = pd.read_csv('datasets/station_information.csv', usecols=['station_id', 'lat', 'lon'])\n",
    "locations_df\n",
    "\n",
    "locations_df.head()"
   ]
  },
  {
   "cell_type": "code",
   "execution_count": 62,
   "id": "5a5ebaee-3472-4e44-8da2-ae6c5aab0785",
   "metadata": {},
   "outputs": [],
   "source": [
    "def get_route_json(lat1, lon1, lat2, lon2):\n",
    "    base_url = 'https://graphhopper.com/api/1/route'\n",
    "    url = f'{base_url}?point={lat1},{lon1}&point={lat2},{lon2}&profile=bike&locale=en&calc_points=true&points_encoded=False&key={api_keys.api_key}'\n",
    "    r = requests.get(url).json()\n",
    "    print(r)\n",
    "    try:\n",
    "        pass\n",
    "    except KeyError:\n",
    "        pass\n",
    "#return polyline.decode(r.get('paths')[0].get('points'))\n",
    "    "
   ]
  },
  {
   "cell_type": "code",
   "execution_count": null,
   "id": "9f22c103-dbdb-433d-bfb2-2ad9de3220c4",
   "metadata": {},
   "outputs": [],
   "source": []
  },
  {
   "cell_type": "code",
   "execution_count": 55,
   "id": "86cefb1c-32b2-45a3-ac67-8ede04202a30",
   "metadata": {},
   "outputs": [
    {
     "data": {
      "text/html": [
       "<div>\n",
       "<style scoped>\n",
       "    .dataframe tbody tr th:only-of-type {\n",
       "        vertical-align: middle;\n",
       "    }\n",
       "\n",
       "    .dataframe tbody tr th {\n",
       "        vertical-align: top;\n",
       "    }\n",
       "\n",
       "    .dataframe thead th {\n",
       "        text-align: right;\n",
       "    }\n",
       "</style>\n",
       "<table border=\"1\" class=\"dataframe\">\n",
       "  <thead>\n",
       "    <tr style=\"text-align: right;\">\n",
       "      <th></th>\n",
       "      <th>lat_start</th>\n",
       "      <th>lon_start</th>\n",
       "      <th>lat_end</th>\n",
       "      <th>lon_end</th>\n",
       "    </tr>\n",
       "  </thead>\n",
       "  <tbody>\n",
       "    <tr>\n",
       "      <th>0</th>\n",
       "      <td>43.639444</td>\n",
       "      <td>-79.423611</td>\n",
       "      <td>43.639444</td>\n",
       "      <td>-79.423611</td>\n",
       "    </tr>\n",
       "    <tr>\n",
       "      <th>1</th>\n",
       "      <td>43.631400</td>\n",
       "      <td>-79.430400</td>\n",
       "      <td>43.639278</td>\n",
       "      <td>-79.411574</td>\n",
       "    </tr>\n",
       "    <tr>\n",
       "      <th>2</th>\n",
       "      <td>43.658938</td>\n",
       "      <td>-79.383518</td>\n",
       "      <td>43.656026</td>\n",
       "      <td>-79.385327</td>\n",
       "    </tr>\n",
       "    <tr>\n",
       "      <th>3</th>\n",
       "      <td>43.635492</td>\n",
       "      <td>-79.398253</td>\n",
       "      <td>43.675791</td>\n",
       "      <td>-79.406980</td>\n",
       "    </tr>\n",
       "    <tr>\n",
       "      <th>4</th>\n",
       "      <td>43.649172</td>\n",
       "      <td>-79.444509</td>\n",
       "      <td>43.639700</td>\n",
       "      <td>-79.448650</td>\n",
       "    </tr>\n",
       "    <tr>\n",
       "      <th>...</th>\n",
       "      <td>...</td>\n",
       "      <td>...</td>\n",
       "      <td>...</td>\n",
       "      <td>...</td>\n",
       "    </tr>\n",
       "    <tr>\n",
       "      <th>7486</th>\n",
       "      <td>43.640978</td>\n",
       "      <td>-79.376785</td>\n",
       "      <td>43.632244</td>\n",
       "      <td>-79.410810</td>\n",
       "    </tr>\n",
       "    <tr>\n",
       "      <th>7487</th>\n",
       "      <td>43.645469</td>\n",
       "      <td>-79.411084</td>\n",
       "      <td>43.646218</td>\n",
       "      <td>-79.385505</td>\n",
       "    </tr>\n",
       "    <tr>\n",
       "      <th>7488</th>\n",
       "      <td>43.671389</td>\n",
       "      <td>-79.382919</td>\n",
       "      <td>43.664964</td>\n",
       "      <td>-79.383550</td>\n",
       "    </tr>\n",
       "    <tr>\n",
       "      <th>7489</th>\n",
       "      <td>43.655431</td>\n",
       "      <td>-79.380653</td>\n",
       "      <td>43.645572</td>\n",
       "      <td>-79.393990</td>\n",
       "    </tr>\n",
       "    <tr>\n",
       "      <th>7490</th>\n",
       "      <td>43.639700</td>\n",
       "      <td>-79.448650</td>\n",
       "      <td>43.654501</td>\n",
       "      <td>-79.460053</td>\n",
       "    </tr>\n",
       "  </tbody>\n",
       "</table>\n",
       "<p>7491 rows × 4 columns</p>\n",
       "</div>"
      ],
      "text/plain": [
       "      lat_start  lon_start    lat_end    lon_end\n",
       "0     43.639444 -79.423611  43.639444 -79.423611\n",
       "1     43.631400 -79.430400  43.639278 -79.411574\n",
       "2     43.658938 -79.383518  43.656026 -79.385327\n",
       "3     43.635492 -79.398253  43.675791 -79.406980\n",
       "4     43.649172 -79.444509  43.639700 -79.448650\n",
       "...         ...        ...        ...        ...\n",
       "7486  43.640978 -79.376785  43.632244 -79.410810\n",
       "7487  43.645469 -79.411084  43.646218 -79.385505\n",
       "7488  43.671389 -79.382919  43.664964 -79.383550\n",
       "7489  43.655431 -79.380653  43.645572 -79.393990\n",
       "7490  43.639700 -79.448650  43.654501 -79.460053\n",
       "\n",
       "[7491 rows x 4 columns]"
      ]
     },
     "execution_count": 55,
     "metadata": {},
     "output_type": "execute_result"
    }
   ],
   "source": [
    "import folium\n",
    "\n",
    "lat_lon_df = pd.read_csv(\"datasets/lon-lat.csv\", usecols=['lat_start', 'lon_start', 'lat_end', 'lon_end'])\n",
    "lat_lon_df"
   ]
  },
  {
   "cell_type": "code",
   "execution_count": 56,
   "id": "225aec20-de1a-454e-a2fd-397381c2d3be",
   "metadata": {},
   "outputs": [],
   "source": [
    "# Create a base map (centered at the first coordinate)\n",
    "\n",
    "m = folium.Map(location=[lat_lon_df[\"lat_start\"].mean(), lat_lon_df[\"lon_start\"].mean()], zoom_start=5)\n"
   ]
  },
  {
   "cell_type": "code",
   "execution_count": 63,
   "id": "b9aa1bf8-664a-4769-922e-6858839969d6",
   "metadata": {},
   "outputs": [
    {
     "name": "stdout",
     "output_type": "stream",
     "text": [
      "{'hints': {'visited_nodes.sum': 2, 'visited_nodes.average': 2.0}, 'info': {'copyrights': ['GraphHopper', 'OpenStreetMap contributors'], 'took': 2, 'road_data_timestamp': '2025-02-10T03:00:00Z'}, 'paths': [{'distance': 0.0, 'weight': 0.0, 'time': 0, 'transfers': 0, 'points_encoded': False, 'bbox': [-79.42368, 43.639624, -79.42368, 43.639624], 'points': {'type': 'LineString', 'coordinates': [[-79.42368, 43.639624], [-79.42368, 43.639624]]}, 'instructions': [{'distance': 0.0, 'sign': 4, 'interval': [0, 0], 'text': 'Arrive at destination', 'time': 0, 'street_name': ''}], 'legs': [], 'details': {}, 'ascend': 0.0, 'descend': 0.0, 'snapped_waypoints': {'type': 'LineString', 'coordinates': [[-79.42368, 43.639624], [-79.42368, 43.639624]]}}]}\n",
      "{'hints': {'visited_nodes.sum': 66, 'visited_nodes.average': 66.0}, 'info': {'copyrights': ['GraphHopper', 'OpenStreetMap contributors'], 'took': 2, 'road_data_timestamp': '2025-02-10T03:00:00Z'}, 'paths': [{'distance': 2638.382, 'weight': 415.211687, 'time': 537547, 'transfers': 0, 'points_encoded': False, 'bbox': [-79.430413, 43.629861, -79.408492, 43.639284], 'points': {'type': 'LineString', 'coordinates': [[-79.430413, 43.63132], [-79.429949, 43.631252], [-79.429699, 43.631232], [-79.429355, 43.631143], [-79.428461, 43.630824], [-79.428342, 43.630765], [-79.42815, 43.63065], [-79.42809, 43.630637], [-79.427952, 43.630633], [-79.42786, 43.630617], [-79.427692, 43.63056], [-79.427523, 43.630493], [-79.427362, 43.630411], [-79.427178, 43.630331], [-79.426413, 43.63008], [-79.425885, 43.629922], [-79.425298, 43.629861], [-79.424865, 43.629896], [-79.424551, 43.629909], [-79.423575, 43.629984], [-79.423328, 43.629987], [-79.423099, 43.63], [-79.422953, 43.630024], [-79.420006, 43.630266], [-79.419919, 43.630296], [-79.419688, 43.630323], [-79.419605, 43.630362], [-79.418879, 43.630465], [-79.41792, 43.630618], [-79.417797, 43.630597], [-79.416872, 43.630731], [-79.416029, 43.630865], [-79.415766, 43.630915], [-79.415665, 43.630944], [-79.415282, 43.631007], [-79.415211, 43.631004], [-79.414776, 43.631059], [-79.414706, 43.631084], [-79.414587, 43.631147], [-79.414506, 43.631173], [-79.413717, 43.631361], [-79.411166, 43.63214], [-79.41113, 43.632158], [-79.41106, 43.632218], [-79.410756, 43.632302], [-79.410702, 43.632323], [-79.410618, 43.632342], [-79.410535, 43.632343], [-79.41025, 43.632304], [-79.410093, 43.632302], [-79.410026, 43.632313], [-79.4099, 43.632393], [-79.40988, 43.632438], [-79.409677, 43.632711], [-79.409567, 43.632882], [-79.409292, 43.633246], [-79.408968, 43.633729], [-79.408789, 43.633956], [-79.408653, 43.634206], [-79.408598, 43.634277], [-79.40856, 43.634301], [-79.408492, 43.63438], [-79.408675, 43.634477], [-79.408822, 43.634579], [-79.408859, 43.634691], [-79.408948, 43.634804], [-79.40909, 43.634915], [-79.40944, 43.635761], [-79.410308, 43.637992], [-79.410308, 43.63811], [-79.410441, 43.638434], [-79.410538, 43.638567], [-79.410841, 43.639269], [-79.411027, 43.639266], [-79.411419, 43.639186], [-79.411445, 43.639262], [-79.411543, 43.639246], [-79.41153, 43.639264], [-79.411537, 43.639284]]}, 'instructions': [{'distance': 448.348, 'heading': 96.92, 'sign': 0, 'interval': [0, 16], 'text': 'Continue onto Marilyn Bell Park Promenade', 'time': 89669, 'street_name': 'Marilyn Bell Park Promenade'}, {'distance': 1274.418, 'sign': -1, 'interval': [16, 50], 'text': 'Turn slight left onto Waterfront Recreational Trail', 'time': 254084, 'street_name': 'Waterfront Recreational Trail'}, {'distance': 262.555, 'sign': -7, 'interval': [50, 61], 'text': 'Keep left onto Waterfront Recreational Trail', 'time': 52741, 'street_name': 'Waterfront Recreational Trail'}, {'distance': 34.664, 'sign': -2, 'interval': [61, 63], 'text': 'Turn left onto Remembrance Drive', 'time': 7389, 'street_name': 'Remembrance Drive'}, {'distance': 549.244, 'sign': 7, 'interval': [63, 72], 'text': 'Keep right onto Strachan Avenue', 'time': 110969, 'street_name': 'Strachan Avenue'}, {'distance': 47.764, 'sign': -2, 'interval': [72, 74], 'text': 'Turn left onto East Liberty Street', 'time': 9553, 'street_name': 'East Liberty Street'}, {'distance': 8.725, 'sign': 2, 'interval': [74, 75], 'text': 'Turn right onto Western Battery Road', 'time': 1745, 'street_name': 'Western Battery Road'}, {'distance': 8.077, 'sign': -2, 'interval': [75, 76], 'text': 'Turn left', 'time': 7269, 'street_name': ''}, {'distance': 4.587, 'sign': 3, 'interval': [76, 78], 'text': 'Turn sharp right', 'time': 4128, 'street_name': ''}, {'distance': 0.0, 'sign': 4, 'last_heading': 345.6138716008639, 'interval': [78, 78], 'text': 'Arrive at destination', 'time': 0, 'street_name': ''}], 'legs': [], 'details': {}, 'ascend': 20.6727294921875, 'descend': 10.4041748046875, 'snapped_waypoints': {'type': 'LineString', 'coordinates': [[-79.430413, 43.63132], [-79.411537, 43.639284]]}}]}\n"
     ]
    },
    {
     "ename": "TypeError",
     "evalue": "'NoneType' object is not subscriptable",
     "output_type": "error",
     "traceback": [
      "\u001b[1;31m---------------------------------------------------------------------------\u001b[0m",
      "\u001b[1;31mTypeError\u001b[0m                                 Traceback (most recent call last)",
      "Cell \u001b[1;32mIn[63], line 26\u001b[0m\n\u001b[0;32m     24\u001b[0m     \u001b[38;5;28;01mbreak\u001b[39;00m\n\u001b[0;32m     25\u001b[0m \u001b[38;5;28;01melse\u001b[39;00m:\n\u001b[1;32m---> 26\u001b[0m     folium\u001b[38;5;241m.\u001b[39mPolyLine([[\u001b[43mr\u001b[49m\u001b[43m[\u001b[49m\u001b[38;5;241;43m0\u001b[39;49m\u001b[43m]\u001b[49m[\u001b[38;5;241m0\u001b[39m], r[\u001b[38;5;241m1\u001b[39m][\u001b[38;5;241m1\u001b[39m]], [r[i\u001b[38;5;241m+\u001b[39m\u001b[38;5;241m1\u001b[39m][\u001b[38;5;241m0\u001b[39m], r[i\u001b[38;5;241m+\u001b[39m\u001b[38;5;241m1\u001b[39m][\u001b[38;5;241m1\u001b[39m]]], color\u001b[38;5;241m=\u001b[39m\u001b[38;5;124m'\u001b[39m\u001b[38;5;124mblue\u001b[39m\u001b[38;5;124m'\u001b[39m, weight\u001b[38;5;241m=\u001b[39m\u001b[38;5;241m5\u001b[39m, opacity\u001b[38;5;241m=\u001b[39m\u001b[38;5;241m0.7\u001b[39m)\u001b[38;5;241m.\u001b[39madd_to(m)\n\u001b[0;32m     27\u001b[0m \u001b[38;5;28;01mif\u001b[39;00m i \u001b[38;5;241m+\u001b[39m \u001b[38;5;241m1\u001b[39m \u001b[38;5;241m==\u001b[39m \u001b[38;5;241m12\u001b[39m:\n\u001b[0;32m     28\u001b[0m     \u001b[38;5;28;01mbreak\u001b[39;00m\n",
      "\u001b[1;31mTypeError\u001b[0m: 'NoneType' object is not subscriptable"
     ]
    }
   ],
   "source": [
    "def add_marker(lat1, lon1, lat2, lon2):\n",
    "    folium.Marker(\n",
    "        location=[lat1, lon1],\n",
    "        popup=\"Start Location\",\n",
    "        tooltip=\"Start\",\n",
    "        icon=folium.Icon(color=\"green\", icon=\"play\")\n",
    "    ).add_to(m)\n",
    "\n",
    "    folium.Marker(\n",
    "        location=[lat2, lon2],\n",
    "        popup=\"End Location\",\n",
    "        tooltip=\"End\",\n",
    "        icon=folium.Icon(color=\"red\", icon=\"stop\")\n",
    "    ).add_to(m)\n",
    "\n",
    "\n",
    "\n",
    "for i, row in lat_lon_df.iterrows():\n",
    "    lat1, lon1, lat2, lon2 = row['lat_start'], row['lon_start'], row['lat_end'], row['lon_end']\n",
    "    r = get_route_json(lat1, lon1, lat2, lon2)\n",
    "    if i == 0:\n",
    "        continue\n",
    "    if i + 1 == len(lat_lon_df):\n",
    "        break\n",
    "    else:\n",
    "        folium.PolyLine([[r[0][0], r[1][1]], [r[i+1][0], r[i+1][1]]], color='blue', weight=5, opacity=0.7).add_to(m)\n",
    "    if i + 1 == 12:\n",
    "        break\n",
    "\n",
    "\n",
    "m.save('route_map.html')\n"
   ]
  },
  {
   "cell_type": "code",
   "execution_count": null,
   "id": "fdf4ae09-08f1-41a7-aaac-95ddd77f19ee",
   "metadata": {},
   "outputs": [],
   "source": []
  }
 ],
 "metadata": {
  "kernelspec": {
   "display_name": "Python 3 (ipykernel)",
   "language": "python",
   "name": "python3"
  },
  "language_info": {
   "codemirror_mode": {
    "name": "ipython",
    "version": 3
   },
   "file_extension": ".py",
   "mimetype": "text/x-python",
   "name": "python",
   "nbconvert_exporter": "python",
   "pygments_lexer": "ipython3",
   "version": "3.12.4"
  }
 },
 "nbformat": 4,
 "nbformat_minor": 5
}
