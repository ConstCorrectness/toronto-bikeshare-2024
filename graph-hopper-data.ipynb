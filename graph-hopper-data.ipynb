{
 "cells": [
  {
   "cell_type": "code",
   "execution_count": 62,
   "id": "abaaa43e-5e73-4db2-aa15-e6d38725a85f",
   "metadata": {},
   "outputs": [],
   "source": [
    "import requests\n",
    "from urllib.parse import urlencode, quote\n",
    "\n",
    "import pandas as pd\n",
    "import api_keys\n",
    "\n",
    "import polyline"
   ]
  },
  {
   "cell_type": "code",
   "execution_count": null,
   "id": "e8554817-db76-4ed6-8e19-3a540f9e223b",
   "metadata": {},
   "outputs": [
    {
     "data": {
      "text/plain": [
       "{'hints': {'visited_nodes.sum': 958, 'visited_nodes.average': 958.0},\n",
       " 'info': {'copyrights': ['GraphHopper', 'OpenStreetMap contributors'],\n",
       "  'took': 38,\n",
       "  'road_data_timestamp': '2025-02-10T03:00:00Z'},\n",
       " 'paths': [{'distance': 935537.633,\n",
       "   'weight': 159324.093053,\n",
       "   'time': 194081930,\n",
       "   'transfers': 0,\n",
       "   'points_encoded': True,\n",
       "   'points_encoded_multiplier': 100000.0,\n",
       "   'snapped_waypoints': 'cwawHsbxjAt`wPzyds@'}]}"
      ]
     },
     "execution_count": 63,
     "metadata": {},
     "output_type": "execute_result"
    }
   ],
   "source": [
    "base_url = 'https://graphhopper.com/api/1/route'\n",
    "\n",
    "requests.get(url).json()"
   ]
  },
  {
   "cell_type": "code",
   "execution_count": 64,
   "id": "1b9c0759-73cb-44e8-b2f9-87a6c7a757db",
   "metadata": {},
   "outputs": [
    {
     "data": {
      "text/html": [
       "<div>\n",
       "<style scoped>\n",
       "    .dataframe tbody tr th:only-of-type {\n",
       "        vertical-align: middle;\n",
       "    }\n",
       "\n",
       "    .dataframe tbody tr th {\n",
       "        vertical-align: top;\n",
       "    }\n",
       "\n",
       "    .dataframe thead th {\n",
       "        text-align: right;\n",
       "    }\n",
       "</style>\n",
       "<table border=\"1\" class=\"dataframe\">\n",
       "  <thead>\n",
       "    <tr style=\"text-align: right;\">\n",
       "      <th></th>\n",
       "      <th>station_id</th>\n",
       "      <th>lat</th>\n",
       "      <th>lon</th>\n",
       "    </tr>\n",
       "  </thead>\n",
       "  <tbody>\n",
       "    <tr>\n",
       "      <th>0</th>\n",
       "      <td>7000</td>\n",
       "      <td>43.639832</td>\n",
       "      <td>-79.395954</td>\n",
       "    </tr>\n",
       "    <tr>\n",
       "      <th>1</th>\n",
       "      <td>7001</td>\n",
       "      <td>43.664964</td>\n",
       "      <td>-79.383550</td>\n",
       "    </tr>\n",
       "    <tr>\n",
       "      <th>2</th>\n",
       "      <td>7002</td>\n",
       "      <td>43.667131</td>\n",
       "      <td>-79.399555</td>\n",
       "    </tr>\n",
       "    <tr>\n",
       "      <th>3</th>\n",
       "      <td>7003</td>\n",
       "      <td>43.667018</td>\n",
       "      <td>-79.402796</td>\n",
       "    </tr>\n",
       "    <tr>\n",
       "      <th>4</th>\n",
       "      <td>7005</td>\n",
       "      <td>43.648001</td>\n",
       "      <td>-79.383177</td>\n",
       "    </tr>\n",
       "  </tbody>\n",
       "</table>\n",
       "</div>"
      ],
      "text/plain": [
       "   station_id        lat        lon\n",
       "0        7000  43.639832 -79.395954\n",
       "1        7001  43.664964 -79.383550\n",
       "2        7002  43.667131 -79.399555\n",
       "3        7003  43.667018 -79.402796\n",
       "4        7005  43.648001 -79.383177"
      ]
     },
     "execution_count": 64,
     "metadata": {},
     "output_type": "execute_result"
    }
   ],
   "source": [
    "# curl \"https://graphhopper.com/api/1/route?point=51.131,12.414&point=48.224,3.867&profile=car&locale=de&calc_points=false&key=api_key\"\n",
    "\n",
    "locations_df = pd.read_csv('datasets/station_information.csv', usecols=['station_id', 'lat', 'lon'])\n",
    "locations_df\n",
    "\n",
    "locations_df.head()"
   ]
  },
  {
   "cell_type": "code",
   "execution_count": 69,
   "id": "5a5ebaee-3472-4e44-8da2-ae6c5aab0785",
   "metadata": {},
   "outputs": [],
   "source": [
    "def get_route_json(lat1, lon1, lat2, lon2):\n",
    "    base_url = 'https://graphhopper.com/api/1/route'\n",
    "    url = f'{base_url}?point={lat1},{lon1}&point={lat2},{lon2}&profile=bike&locale=en&calc_points=true&points_encoded=True&key={api_keys.api_key}'\n",
    "    return requests.get(url).json()\n",
    "    \n",
    "o = get_route_json(locations_df.loc[0].lat, locations_df.loc[0].lon, locations_df.loc[1].lat, locations_df.loc[1].lon)\n",
    "    "
   ]
  },
  {
   "cell_type": "code",
   "execution_count": 73,
   "id": "9f22c103-dbdb-433d-bfb2-2ad9de3220c4",
   "metadata": {},
   "outputs": [
    {
     "data": {
      "text/plain": [
       "[(43.63985, -79.39596),\n",
       " (43.63988, -79.39569),\n",
       " (43.63993, -79.39526),\n",
       " (43.63996, -79.39503),\n",
       " (43.64002, -79.3948),\n",
       " (43.64015, -79.3944),\n",
       " (43.64029, -79.39402),\n",
       " (43.64035, -79.39386),\n",
       " (43.64057, -79.39286),\n",
       " (43.64138, -79.39316),\n",
       " (43.64162, -79.39199),\n",
       " (43.6418, -79.3912),\n",
       " (43.64182, -79.39115),\n",
       " (43.64185, -79.3911),\n",
       " (43.64194, -79.39101),\n",
       " (43.64205, -79.39096),\n",
       " (43.64225, -79.39094),\n",
       " (43.64265, -79.39094),\n",
       " (43.64274, -79.39096),\n",
       " (43.64333, -79.3912),\n",
       " (43.64537, -79.39203),\n",
       " (43.64732, -79.39283),\n",
       " (43.64766, -79.39296),\n",
       " (43.64842, -79.39328),\n",
       " (43.64933, -79.39365),\n",
       " (43.64938, -79.39342),\n",
       " (43.65065, -79.39392),\n",
       " (43.65064, -79.39376),\n",
       " (43.65087, -79.39261),\n",
       " (43.65276, -79.39339),\n",
       " (43.65375, -79.3938),\n",
       " (43.6548, -79.39423),\n",
       " (43.65583, -79.39467),\n",
       " (43.65758, -79.39537),\n",
       " (43.6581, -79.3956),\n",
       " (43.65829, -79.3957),\n",
       " (43.65859, -79.39584),\n",
       " (43.65864, -79.3959),\n",
       " (43.6587, -79.39599),\n",
       " (43.65878, -79.39546),\n",
       " (43.65882, -79.39528),\n",
       " (43.65908, -79.39407),\n",
       " (43.65956, -79.39183),\n",
       " (43.65988, -79.39034),\n",
       " (43.66035, -79.39055),\n",
       " (43.66047, -79.39058),\n",
       " (43.66061, -79.39057),\n",
       " (43.6607, -79.39055),\n",
       " (43.66082, -79.39048),\n",
       " (43.66099, -79.3903),\n",
       " (43.66108, -79.39021),\n",
       " (43.66124, -79.39009),\n",
       " (43.66141, -79.38999),\n",
       " (43.6615, -79.38994),\n",
       " (43.66163, -79.3899),\n",
       " (43.66178, -79.38988),\n",
       " (43.66194, -79.38991),\n",
       " (43.66361, -79.39062),\n",
       " (43.66386, -79.38948),\n",
       " (43.66415, -79.38818),\n",
       " (43.66475, -79.38546),\n",
       " (43.66492, -79.38467),\n",
       " (43.66495, -79.38447),\n",
       " (43.66506, -79.38396),\n",
       " (43.66498, -79.38392),\n",
       " (43.66504, -79.38373),\n",
       " (43.66508, -79.38354),\n",
       " (43.66502, -79.38352)]"
      ]
     },
     "execution_count": 73,
     "metadata": {},
     "output_type": "execute_result"
    }
   ],
   "source": [
    "polyline.decode(o['paths'][0]['points'])"
   ]
  },
  {
   "cell_type": "code",
   "execution_count": null,
   "id": "0feeb713-961c-47e7-978c-36f7fe936b96",
   "metadata": {},
   "outputs": [],
   "source": []
  }
 ],
 "metadata": {
  "kernelspec": {
   "display_name": "Python 3 (ipykernel)",
   "language": "python",
   "name": "python3"
  },
  "language_info": {
   "codemirror_mode": {
    "name": "ipython",
    "version": 3
   },
   "file_extension": ".py",
   "mimetype": "text/x-python",
   "name": "python",
   "nbconvert_exporter": "python",
   "pygments_lexer": "ipython3",
   "version": "3.12.4"
  }
 },
 "nbformat": 4,
 "nbformat_minor": 5
}
